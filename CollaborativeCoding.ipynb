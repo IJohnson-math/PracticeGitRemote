{
 "cells": [
  {
   "cell_type": "code",
   "execution_count": 1,
   "metadata": {},
   "outputs": [],
   "source": [
    "def add(x, y):\n",
    "    return x+y\n",
    "\n",
    "def addOne(z):\n",
    "    return z+2\n",
    "\n",
    "\n",
    "#for Charlie to fix\n",
    "def mult(x, y):\n",
    "    print(\"fix me\")\n",
    "    \n",
    "#for Seth to fix\n",
    "def square(x):\n",
    "    print(\"I am a triangle!\")\n",
    "    \n",
    "#for Tyler to fix\n",
    "def subtract(x, y):\n",
    "    \"\"\"subtracts y from x \"\"\" #same as as if we added x with the additive inverse of y \n",
    "    return x-y \n",
    "\n",
    "#for August to fix\n",
    "def divide(numerator, denominator):\n",
    "    return print(\"but we have so much in common!\")\n",
    "\n",
    "\n"
   ]
  },
  {
   "cell_type": "code",
   "execution_count": null,
   "metadata": {},
   "outputs": [],
   "source": []
  }
 ],
 "metadata": {
  "kernelspec": {
   "display_name": "Python 3",
   "language": "python",
   "name": "python3"
  },
  "language_info": {
   "codemirror_mode": {
    "name": "ipython",
    "version": 3
   },
   "file_extension": ".py",
   "mimetype": "text/x-python",
   "name": "python",
   "nbconvert_exporter": "python",
   "pygments_lexer": "ipython3",
   "version": "3.8.3"
  }
 },
 "nbformat": 4,
 "nbformat_minor": 5
}
